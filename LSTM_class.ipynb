{
 "cells": [
  {
   "cell_type": "code",
   "execution_count": 4,
   "id": "3e947f68",
   "metadata": {},
   "outputs": [],
   "source": [
    "import numpy as np\n",
    "import joblib\n",
    "from tensorflow.keras.models import load_model\n",
    "\n",
    "class LSTM:\n",
    "    def __init__(self, model_path='lstm_model.h5', scaler_path='scaler.joblib'):\n",
    "        self.model = load_model(model_path)\n",
    "        self.scaler = joblib.load(scaler_path)\n",
    "\n",
    "    def preprocess(self, sentiment_score, close_price):\n",
    "        # Important: order must match training data — [Close, Sentiment_Score]\n",
    "        data = np.array([[close_price, sentiment_score]])  # not reversed\n",
    "        scaled_data = self.scaler.transform(data)\n",
    "        return scaled_data.reshape((1, 1, scaled_data.shape[1]))\n",
    "\n",
    "    def predict_sales(self, sentiment_score, close_price):\n",
    "        processed_input = self.preprocess(sentiment_score, close_price)\n",
    "        prediction = self.model.predict(processed_input)\n",
    "        return prediction[0][0]\n"
   ]
  }
 ],
 "metadata": {
  "kernelspec": {
   "display_name": "Python 3",
   "language": "python",
   "name": "python3"
  },
  "language_info": {
   "codemirror_mode": {
    "name": "ipython",
    "version": 3
   },
   "file_extension": ".py",
   "mimetype": "text/x-python",
   "name": "python",
   "nbconvert_exporter": "python",
   "pygments_lexer": "ipython3",
   "version": "3.12.3"
  }
 },
 "nbformat": 4,
 "nbformat_minor": 5
}
