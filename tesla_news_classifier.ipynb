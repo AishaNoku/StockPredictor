{
  "cells": [
    {
      "cell_type": "code",
      "execution_count": null,
      "metadata": {
        "id": "dqiLY37v_yxK"
      },
      "outputs": [],
      "source": []
    },
    {
      "cell_type": "markdown",
      "metadata": {
        "id": "Lmi1AhUi_8gM"
      },
      "source": [
        "# Tesla News Classifier"
      ]
    },
    {
      "cell_type": "markdown",
      "metadata": {
        "id": "2pwV69km_57Z"
      },
      "source": [
        "## import necessary libraries\n"
      ]
    },
    {
      "cell_type": "code",
      "execution_count": null,
      "metadata": {
        "id": "sFEMu4E3ALbl"
      },
      "outputs": [],
      "source": [
        "import pandas as pd\n",
        "import re\n",
        "from sklearn.feature_extraction.text import TfidfVectorizer\n",
        "from sklearn.linear_model import LogisticRegression\n",
        "from sklearn.model_selection import train_test_split\n",
        "import joblib\n",
        "import os\n",
        "from transformers import pipeline"
      ]
    },
    {
      "cell_type": "markdown",
      "metadata": {
        "id": "lF4VEG7BAeCE"
      },
      "source": [
        "# Load Datasets and Label Data"
      ]
    },
    {
      "cell_type": "code",
      "execution_count": 24,
      "metadata": {
        "colab": {
          "base_uri": "https://localhost:8080/",
          "height": 379
        },
        "id": "GLY_ezI8Akov",
        "outputId": "1cef932a-c891-4ce0-b176-57c2e0cbd928"
      },
      "outputs": [
        {
          "name": "stdout",
          "output_type": "stream",
          "text": [
            "<class 'pandas.core.frame.DataFrame'>\n",
            "Index: 183034 entries, 0 to 183071\n",
            "Data columns (total 3 columns):\n",
            " #   Column  Non-Null Count   Dtype \n",
            "---  ------  --------------   ----- \n",
            " 0   date    183034 non-null  object\n",
            " 1   title   183034 non-null  object\n",
            " 2   label   183034 non-null  int64 \n",
            "dtypes: int64(1), object(2)\n",
            "memory usage: 5.6+ MB\n"
          ]
        },
        {
          "data": {
            "text/html": [
              "<div>\n",
              "<style scoped>\n",
              "    .dataframe tbody tr th:only-of-type {\n",
              "        vertical-align: middle;\n",
              "    }\n",
              "\n",
              "    .dataframe tbody tr th {\n",
              "        vertical-align: top;\n",
              "    }\n",
              "\n",
              "    .dataframe thead th {\n",
              "        text-align: right;\n",
              "    }\n",
              "</style>\n",
              "<table border=\"1\" class=\"dataframe\">\n",
              "  <thead>\n",
              "    <tr style=\"text-align: right;\">\n",
              "      <th></th>\n",
              "      <th>date</th>\n",
              "      <th>title</th>\n",
              "      <th>label</th>\n",
              "    </tr>\n",
              "  </thead>\n",
              "  <tbody>\n",
              "    <tr>\n",
              "      <th>0</th>\n",
              "      <td>18-Jul-20</td>\n",
              "      <td>Johnson is asking Santa for a Christmas recovery</td>\n",
              "      <td>0</td>\n",
              "    </tr>\n",
              "    <tr>\n",
              "      <th>1</th>\n",
              "      <td>18-Jul-20</td>\n",
              "      <td>‘I now fear the worst’: four grim tales of wor...</td>\n",
              "      <td>0</td>\n",
              "    </tr>\n",
              "    <tr>\n",
              "      <th>2</th>\n",
              "      <td>18-Jul-20</td>\n",
              "      <td>Five key areas Sunak must tackle to serve up e...</td>\n",
              "      <td>0</td>\n",
              "    </tr>\n",
              "    <tr>\n",
              "      <th>3</th>\n",
              "      <td>18-Jul-20</td>\n",
              "      <td>Covid-19 leaves firms ‘fatally ill-prepared’ f...</td>\n",
              "      <td>0</td>\n",
              "    </tr>\n",
              "    <tr>\n",
              "      <th>4</th>\n",
              "      <td>18-Jul-20</td>\n",
              "      <td>The Week in Patriarchy  \\n\\n\\n  Bacardi's 'lad...</td>\n",
              "      <td>0</td>\n",
              "    </tr>\n",
              "  </tbody>\n",
              "</table>\n",
              "</div>"
            ],
            "text/plain": [
              "        date                                              title  label\n",
              "0  18-Jul-20   Johnson is asking Santa for a Christmas recovery      0\n",
              "1  18-Jul-20  ‘I now fear the worst’: four grim tales of wor...      0\n",
              "2  18-Jul-20  Five key areas Sunak must tackle to serve up e...      0\n",
              "3  18-Jul-20  Covid-19 leaves firms ‘fatally ill-prepared’ f...      0\n",
              "4  18-Jul-20  The Week in Patriarchy  \\n\\n\\n  Bacardi's 'lad...      0"
            ]
          },
          "execution_count": 24,
          "metadata": {},
          "output_type": "execute_result"
        }
      ],
      "source": [
        "\n",
        "df1= pd.read_csv('guardian_headlines.csv')  # General news\n",
        "df2 = pd.read_csv('tesla_news_cleaned.csv')      # Tesla related data\n",
        "#all cleaned tesla news is relevant the other news should contain keywords\n",
        "keywords = ['tesla','elon musk','cybertruck','electric vehicle']\n",
        "df1['label'] = df1['title'].str.lower().str.contains('|'.join(keywords)).astype(int)\n",
        "df2['label'] = 1\n",
        "#combine the datasets and clean\n",
        "df = pd.concat([df1, df2], ignore_index=True)\n",
        "df = df[['date', 'title', 'label']].dropna(subset=['title'])\n",
        "df = df[df['title'].str.strip() != '']\n",
        "df.info()\n",
        "df.head()\n",
        "\n"
      ]
    },
    {
      "cell_type": "markdown",
      "metadata": {
        "id": "iLXAGugUCR9B"
      },
      "source": [
        "## Cleaning the Data"
      ]
    },
    {
      "cell_type": "code",
      "execution_count": 25,
      "metadata": {
        "colab": {
          "base_uri": "https://localhost:8080/"
        },
        "collapsed": true,
        "id": "jgTZbFZkCa8Y",
        "outputId": "40c09043-f621-417d-8ce1-e42cdeefaf4b"
      },
      "outputs": [
        {
          "name": "stderr",
          "output_type": "stream",
          "text": [
            "<>:5: SyntaxWarning: invalid escape sequence '\\s'\n",
            "<>:5: SyntaxWarning: invalid escape sequence '\\s'\n",
            "C:\\Users\\Aisha N Chihuri\\AppData\\Local\\Temp\\ipykernel_27604\\3556691078.py:5: SyntaxWarning: invalid escape sequence '\\s'\n",
            "  text = re.sub('\\s+', ' ', text).lower()      # Remove extra spaces and lowercase evrything\n"
          ]
        },
        {
          "name": "stdout",
          "output_type": "stream",
          "text": [
            "<class 'pandas.core.frame.DataFrame'>\n",
            "Index: 183034 entries, 0 to 183071\n",
            "Data columns (total 3 columns):\n",
            " #   Column      Non-Null Count   Dtype \n",
            "---  ------      --------------   ----- \n",
            " 0   date        183034 non-null  object\n",
            " 1   label       183034 non-null  int64 \n",
            " 2   clean_text  183034 non-null  object\n",
            "dtypes: int64(1), object(2)\n",
            "memory usage: 5.6+ MB\n"
          ]
        }
      ],
      "source": [
        "def clean_text(text):\n",
        "    text = str(text)\n",
        "    text = re.sub(r'http\\S+', '', text)          # Remove URLs\n",
        "    text = re.sub('[^a-zA-Z]', ' ', text)        # Keep only letters\n",
        "    text = re.sub('\\s+', ' ', text).lower()      # Remove extra spaces and lowercase evrything\n",
        "    return text.strip()\n",
        "\n",
        "df.dropna(subset = ['date'])# remove all rows without dates\n",
        "df['clean_text'] = df['title'].astype(str)\n",
        "df['clean_text'] = df['clean_text'].apply(clean_text)\n",
        "cols_to_keep = ['date','clean_text','label'] #only keep columns to be used for training\n",
        "df = df.drop(columns = [col for col in df.columns if col not in cols_to_keep])\n",
        "df.info()"
      ]
    },
    {
      "cell_type": "markdown",
      "metadata": {
        "id": "3CxvH6UFIfMY"
      },
      "source": [
        "## Labelling The Data\n"
      ]
    },
    {
      "cell_type": "code",
      "execution_count": 26,
      "metadata": {
        "colab": {
          "base_uri": "https://localhost:8080/",
          "height": 206
        },
        "collapsed": true,
        "id": "3xEkWfAOIiF2",
        "outputId": "dad5f26e-e421-4c8f-ed70-46c42e7ffb7a"
      },
      "outputs": [],
      "source": [
        "#keywords = ['tesla','elon musk','cybertruck']\n",
        "#df['label'] = df['clean_text'].apply(lambda x: 1 if any(keyword in x for keyword in keywords) else 0)\n",
        "#df.head()"
      ]
    },
    {
      "cell_type": "markdown",
      "metadata": {
        "id": "oQICtvHhJDLy"
      },
      "source": [
        "## Balancing the dataset"
      ]
    },
    {
      "cell_type": "code",
      "execution_count": 27,
      "metadata": {
        "colab": {
          "base_uri": "https://localhost:8080/"
        },
        "id": "1jSqMECcJIod",
        "outputId": "b2b5f724-4dbc-4a98-bdf4-ca993fb03dfd"
      },
      "outputs": [
        {
          "name": "stdout",
          "output_type": "stream",
          "text": [
            "\n",
            "Counts before balancing: \n",
            "label\n",
            "1    165339\n",
            "0     17695\n",
            "Name: count, dtype: int64\n",
            "\n",
            "Counts after balancing: \n",
            "label\n",
            "1    17695\n",
            "0    17695\n",
            "Name: count, dtype: int64\n"
          ]
        }
      ],
      "source": [
        "from sklearn.utils import resample\n",
        "\n",
        "print(\"\\nCounts before balancing: \")\n",
        "print(df['label'].value_counts())\n",
        "# reduce sample size for tesla specific data\n",
        "\n",
        "df_tesla = df[df['label'] ==1]\n",
        "df_unrelated =df[df['label']==0]\n",
        "#balance the tesla data with the unrelated data\n",
        "balanced_tesla = resample(df_tesla, n_samples=len(df_unrelated), random_state=42)\n",
        "df_balanced = pd.concat([balanced_tesla, df_unrelated])\n",
        "print(\"\\nCounts after balancing: \")\n",
        "print(df_balanced['label'].value_counts())\n",
        "\n",
        "\n"
      ]
    },
    {
      "cell_type": "markdown",
      "metadata": {
        "id": "_ekl2GLvTM3y"
      },
      "source": [
        "# Training The Model"
      ]
    },
    {
      "cell_type": "code",
      "execution_count": 28,
      "metadata": {
        "colab": {
          "base_uri": "https://localhost:8080/"
        },
        "id": "hrfO3TszTQSX",
        "outputId": "0c502031-cd56-412d-d464-977662f752d8"
      },
      "outputs": [
        {
          "name": "stdout",
          "output_type": "stream",
          "text": [
            "Training Accuracy: 0.9585334840350381\n",
            "Testing Accuracy: 0.9580389940661204\n",
            "              precision    recall  f1-score   support\n",
            "\n",
            "           0       0.94      0.98      0.96      3539\n",
            "           1       0.98      0.93      0.96      3539\n",
            "\n",
            "    accuracy                           0.96      7078\n",
            "   macro avg       0.96      0.96      0.96      7078\n",
            "weighted avg       0.96      0.96      0.96      7078\n",
            "\n"
          ]
        },
        {
          "data": {
            "text/plain": [
              "['tfidf_vectorizer.joblib']"
            ]
          },
          "execution_count": 28,
          "metadata": {},
          "output_type": "execute_result"
        }
      ],
      "source": [
        "from sklearn.metrics import classification_report\n",
        "#split into train and test sets\n",
        "X = df_balanced['clean_text']  # Text data\n",
        "y = df_balanced['label']       # Labels\n",
        "\n",
        "X_train, X_test, y_train, y_test = train_test_split(X, y, test_size=0.2, stratify=y,random_state=42\n",
        ")\n",
        "\n",
        "#vectorize and train\n",
        "vectorizer = TfidfVectorizer(max_features=1000)\n",
        "X_train_vec = vectorizer.fit_transform(X_train)\n",
        "X_test_vec = vectorizer.transform(X_test)\n",
        "\n",
        "#Train the model\n",
        "model = LogisticRegression()\n",
        "model.fit(X_train_vec, y_train)\n",
        "\n",
        "# Evaluate the model\n",
        "print(\"Training Accuracy:\", model.score(X_train_vec, y_train))\n",
        "y_pred = model.predict(X_test_vec)\n",
        "print(\"Testing Accuracy:\", model.score(X_test_vec, y_test))\n",
        "print(classification_report(y_test, y_pred))\n",
        "\n",
        "#save the model\n",
        "\n",
        "joblib.dump(model, 'tesla_model.joblib')\n",
        "joblib.dump(vectorizer, 'tfidf_vectorizer.joblib')\n"
      ]
    },
    {
      "cell_type": "markdown",
      "metadata": {
        "id": "VFX25Tk7VR-G"
      },
      "source": [
        "# Prediction Function"
      ]
    },
    {
      "cell_type": "code",
      "execution_count": 29,
      "metadata": {
        "id": "90jyx7p3VWPu"
      },
      "outputs": [],
      "source": [
        "#creating a prediction function\n",
        "def predict_relevance(text):\n",
        "  cleaned = clean_text(text)\n",
        "  vector = vectorizer.transform([cleaned])\n",
        "  prediction = model.predict(vector)\n",
        "  return 'Relevant' if prediction[0] == 1 else 'Irrelevant'"
      ]
    },
    {
      "cell_type": "code",
      "execution_count": 30,
      "metadata": {
        "colab": {
          "base_uri": "https://localhost:8080/"
        },
        "id": "ORizjBQ3Vlll",
        "outputId": "45912508-d2dc-48c1-d1ce-a86f32be5bfd"
      },
      "outputs": [
        {
          "name": "stdout",
          "output_type": "stream",
          "text": [
            "Relevant\n",
            "Irrelevant\n"
          ]
        }
      ],
      "source": [
        "#test out prediction function\n",
        "new_article = \"Tesla delivers 499 out of 550 vehicles in 2020 just shy of the target\"\n",
        "print(predict_relevance(new_article))\n",
        "print(predict_relevance(\"Zimbabwe's inflation rate has increased to 12.7%\"))\n"
      ]
    }
  ],
  "metadata": {
    "colab": {
      "provenance": []
    },
    "kernelspec": {
      "display_name": "Python 3",
      "name": "python3"
    },
    "language_info": {
      "codemirror_mode": {
        "name": "ipython",
        "version": 3
      },
      "file_extension": ".py",
      "mimetype": "text/x-python",
      "name": "python",
      "nbconvert_exporter": "python",
      "pygments_lexer": "ipython3",
      "version": "3.12.3"
    }
  },
  "nbformat": 4,
  "nbformat_minor": 0
}
